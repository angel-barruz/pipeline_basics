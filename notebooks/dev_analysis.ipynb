{
 "cells": [
  {
   "cell_type": "markdown",
   "id": "64e69eed",
   "metadata": {},
   "source": [
    "# Analysis Methods"
   ]
  },
  {
   "cell_type": "code",
   "execution_count": 1,
   "id": "0cd394f1",
   "metadata": {},
   "outputs": [],
   "source": [
    "import pandas as pd"
   ]
  },
  {
   "cell_type": "code",
   "execution_count": 4,
   "id": "07e3162d",
   "metadata": {},
   "outputs": [
    {
     "name": "stdout",
     "output_type": "stream",
     "text": [
      "         Make                Model  Year  Engine Displacement  Cylinders  \\\n",
      "0  AM General    DJ Po Vehicle 2WD  1984                  2.5        4.0   \n",
      "1  AM General     FJ8c Post Office  1984                  4.2        6.0   \n",
      "2  AM General  Post Office DJ5 2WD  1985                  2.5        4.0   \n",
      "\n",
      "      Transmission        Drivetrain                Vehicle Class Fuel Type  \\\n",
      "0  Automatic 3-spd     2-Wheel Drive  Special Purpose Vehicle 2WD   Regular   \n",
      "1  Automatic 3-spd     2-Wheel Drive  Special Purpose Vehicle 2WD   Regular   \n",
      "2  Automatic 3-spd  Rear-Wheel Drive  Special Purpose Vehicle 2WD   Regular   \n",
      "\n",
      "   Fuel Barrels/Year  City MPG  Highway MPG  Combined MPG  \\\n",
      "0          19.388824        18           17            17   \n",
      "1          25.354615        13           13            13   \n",
      "2          20.600625        16           17            16   \n",
      "\n",
      "   CO2 Emission Grams/Mile  Fuel Cost/Year  \n",
      "0               522.764706            1950  \n",
      "1               683.615385            2550  \n",
      "2               555.437500            2100  \n"
     ]
    }
   ],
   "source": [
    "df_argument = pd.read_csv('../data/vehicles.csv')\n",
    "print(df_argument.head(3))"
   ]
  },
  {
   "cell_type": "code",
   "execution_count": 5,
   "id": "90148b0f",
   "metadata": {},
   "outputs": [
    {
     "data": {
      "text/plain": [
       "Index(['Make', 'Model', 'Year', 'Engine Displacement', 'Cylinders',\n",
       "       'Transmission', 'Drivetrain', 'Vehicle Class', 'Fuel Type',\n",
       "       'Fuel Barrels/Year', 'City MPG', 'Highway MPG', 'Combined MPG',\n",
       "       'CO2 Emission Grams/Mile', 'Fuel Cost/Year'],\n",
       "      dtype='object')"
      ]
     },
     "execution_count": 5,
     "metadata": {},
     "output_type": "execute_result"
    }
   ],
   "source": [
    "df_argument.columns"
   ]
  },
  {
   "cell_type": "code",
   "execution_count": 8,
   "id": "66d7155d",
   "metadata": {},
   "outputs": [
    {
     "data": {
      "text/plain": [
       "Make\n",
       "AM General                     14.750000\n",
       "ASC Incorporated               16.000000\n",
       "Acura                          21.506623\n",
       "Alfa Romeo                     19.512195\n",
       "American Motors Corporation    17.681818\n",
       "                                 ...    \n",
       "Volkswagen                     24.093601\n",
       "Volvo                          20.605300\n",
       "Wallace Environmental          13.875000\n",
       "Yugo                           25.000000\n",
       "smart                          35.800000\n",
       "Name: Combined MPG, Length: 127, dtype: float64"
      ]
     },
     "execution_count": 8,
     "metadata": {},
     "output_type": "execute_result"
    }
   ],
   "source": [
    "df_analyzed = df_argument.groupby(by='Make')['Combined MPG'].mean()\n",
    "df_analyzed"
   ]
  },
  {
   "cell_type": "code",
   "execution_count": 9,
   "id": "660ea570",
   "metadata": {},
   "outputs": [
    {
     "data": {
      "text/plain": [
       "pandas.core.series.Series"
      ]
     },
     "execution_count": 9,
     "metadata": {},
     "output_type": "execute_result"
    }
   ],
   "source": [
    "type(df_analyzed)"
   ]
  },
  {
   "cell_type": "code",
   "execution_count": 10,
   "id": "6fe887af",
   "metadata": {},
   "outputs": [],
   "source": [
    "df_analyzed.to_csv('../data/result.csv')"
   ]
  },
  {
   "cell_type": "code",
   "execution_count": 15,
   "id": "e575d13f",
   "metadata": {},
   "outputs": [
    {
     "data": {
      "text/html": [
       "<div>\n",
       "<style scoped>\n",
       "    .dataframe tbody tr th:only-of-type {\n",
       "        vertical-align: middle;\n",
       "    }\n",
       "\n",
       "    .dataframe tbody tr th {\n",
       "        vertical-align: top;\n",
       "    }\n",
       "\n",
       "    .dataframe thead th {\n",
       "        text-align: right;\n",
       "    }\n",
       "</style>\n",
       "<table border=\"1\" class=\"dataframe\">\n",
       "  <thead>\n",
       "    <tr style=\"text-align: right;\">\n",
       "      <th></th>\n",
       "      <th>Make</th>\n",
       "      <th>Combined MPG</th>\n",
       "    </tr>\n",
       "  </thead>\n",
       "  <tbody>\n",
       "    <tr>\n",
       "      <th>0</th>\n",
       "      <td>AM General</td>\n",
       "      <td>14.750000</td>\n",
       "    </tr>\n",
       "    <tr>\n",
       "      <th>1</th>\n",
       "      <td>ASC Incorporated</td>\n",
       "      <td>16.000000</td>\n",
       "    </tr>\n",
       "    <tr>\n",
       "      <th>2</th>\n",
       "      <td>Acura</td>\n",
       "      <td>21.506623</td>\n",
       "    </tr>\n",
       "  </tbody>\n",
       "</table>\n",
       "</div>"
      ],
      "text/plain": [
       "               Make  Combined MPG\n",
       "0        AM General     14.750000\n",
       "1  ASC Incorporated     16.000000\n",
       "2             Acura     21.506623"
      ]
     },
     "execution_count": 15,
     "metadata": {},
     "output_type": "execute_result"
    }
   ],
   "source": [
    "df_result = pd.read_csv('../data/result.csv')\n",
    "df_result.head(3)"
   ]
  },
  {
   "cell_type": "markdown",
   "id": "e9acf5b0",
   "metadata": {},
   "source": [
    "# Refactoring"
   ]
  },
  {
   "cell_type": "code",
   "execution_count": 16,
   "id": "874f2700",
   "metadata": {},
   "outputs": [],
   "source": [
    "def analysis(df,group,agg):\n",
    "    analyzed = df.groupby(by=group)[agg].mean()\n",
    "    analyzed.to_csv('../data/result.csv')\n",
    "    return '-----AAA---'"
   ]
  },
  {
   "cell_type": "code",
   "execution_count": null,
   "id": "fb6b534e",
   "metadata": {},
   "outputs": [],
   "source": []
  }
 ],
 "metadata": {
  "kernelspec": {
   "display_name": "Python [conda env:m1_ih]",
   "language": "python",
   "name": "conda-env-m1_ih-py"
  },
  "language_info": {
   "codemirror_mode": {
    "name": "ipython",
    "version": 3
   },
   "file_extension": ".py",
   "mimetype": "text/x-python",
   "name": "python",
   "nbconvert_exporter": "python",
   "pygments_lexer": "ipython3",
   "version": "3.9.12"
  }
 },
 "nbformat": 4,
 "nbformat_minor": 5
}
